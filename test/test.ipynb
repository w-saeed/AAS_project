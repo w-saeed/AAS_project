{
 "cells": [
  {
   "cell_type": "markdown",
   "id": "49bfb50b-4263-4379-beb9-9eee5c736fff",
   "metadata": {},
   "source": [
    "#### Testing scheam validation"
   ]
  },
  {
   "cell_type": "code",
   "execution_count": null,
   "id": "ed368fb8",
   "metadata": {},
   "outputs": [
    {
     "name": "stdout",
     "output_type": "stream",
     "text": [
      "JSON is valid!\n"
     ]
    }
   ],
   "source": [
    "import jsonschema\n",
    "import json\n",
    "\n",
    "# the time series schema\n",
    "with open('../data/IDTA 02008-1-1_Template_TimeSeriesData.json', 'r') as f:\n",
    "    schema = json.load(f)\n",
    "\n",
    "# the generated file from the builder\n",
    "with open('../data/TimeSeriesDataInstance.json', 'r') as f:\n",
    "    data = json.load(f)\n",
    "\n",
    "\n",
    "try:\n",
    "    jsonschema.validate(instance=data, schema=schema)\n",
    "    print(\"json is valid!\")\n",
    "except jsonschema.ValidationError as e:\n",
    "    print(\"Validation failed:\", e.message)"
   ]
  },
  {
   "cell_type": "code",
   "execution_count": null,
   "metadata": {},
   "outputs": [],
   "source": []
  }
 ],
 "metadata": {
  "kernelspec": {
   "display_name": "Python 3",
   "language": "python",
   "name": "python3"
  },
  "language_info": {
   "codemirror_mode": {
    "name": "ipython",
    "version": 3
   },
   "file_extension": ".py",
   "mimetype": "text/x-python",
   "name": "python",
   "nbconvert_exporter": "python",
   "pygments_lexer": "ipython3",
   "version": "3.9.6"
  }
 },
 "nbformat": 4,
 "nbformat_minor": 5
}
